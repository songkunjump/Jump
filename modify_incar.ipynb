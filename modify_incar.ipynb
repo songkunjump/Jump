{
 "cells": [
  {
   "cell_type": "code",
   "execution_count": null,
   "metadata": {},
   "outputs": [],
   "source": [
    "def modify_incar(incar='INCAR'):             \n",
    "    with open(incar, \"r+\") as f: \n",
    "        d = f.readlines()     \n",
    "        #go back to the beginning\n",
    "        f.seek(0) \n",
    "        #write line by line except the line that start with 'NELM =''\n",
    "        for i in d:\n",
    "            find_NELM = i.find(\"NELM =\")\n",
    "            if find_NELM == -1:          \n",
    "                f.write(i)\n",
    "            #add line with 'NELM = 150'\n",
    "            if i == 'INCAR created by Atomic Simulation Environment\\n': \n",
    "                f.write(\" NELM = 150\\n\")\n",
    "        #not sure of the function\n",
    "        f.truncate()\n",
    "        \n",
    "        \n",
    "           \n",
    "       \n",
    "        "
   ]
  },
  {
   "cell_type": "code",
   "execution_count": 145,
   "metadata": {},
   "outputs": [],
   "source": [
    "modify_incar(incar = 'INCAR')"
   ]
  },
  {
   "cell_type": "code",
   "execution_count": null,
   "metadata": {},
   "outputs": [],
   "source": []
  }
 ],
 "metadata": {
  "kernelspec": {
   "display_name": "Python 3",
   "language": "python",
   "name": "python3"
  },
  "language_info": {
   "codemirror_mode": {
    "name": "ipython",
    "version": 3
   },
   "file_extension": ".py",
   "mimetype": "text/x-python",
   "name": "python",
   "nbconvert_exporter": "python",
   "pygments_lexer": "ipython3",
   "version": "3.7.1"
  }
 },
 "nbformat": 4,
 "nbformat_minor": 2
}
